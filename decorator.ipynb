{
 "cells": [
  {
   "cell_type": "markdown",
   "metadata": {},
   "source": [
    "### **Simple Decorator**"
   ]
  },
  {
   "cell_type": "code",
   "execution_count": 1,
   "metadata": {},
   "outputs": [],
   "source": [
    "def my_decorator_1(func):\n",
    "    def wrapper():\n",
    "        print('Something is happening before function')\n",
    "        func()\n",
    "        print('Something is happending after function')\n",
    "\n",
    "    return wrapper"
   ]
  },
  {
   "cell_type": "code",
   "execution_count": 2,
   "metadata": {},
   "outputs": [
    {
     "name": "stdout",
     "output_type": "stream",
     "text": [
      "Something is happening before function\n",
      "Hello!\n",
      "Something is happending after function\n"
     ]
    }
   ],
   "source": [
    "@my_decorator_1\n",
    "def say_hello_1():\n",
    "    print(\"Hello!\")\n",
    "\n",
    "\n",
    "say_hello_1()"
   ]
  },
  {
   "cell_type": "markdown",
   "metadata": {},
   "source": [
    "### **Decorator with Arguments**"
   ]
  },
  {
   "cell_type": "code",
   "execution_count": 3,
   "metadata": {},
   "outputs": [],
   "source": [
    "def my_decorator_2(func):\n",
    "    def wrapper(*args, **kwargs):\n",
    "        print('Something is happening before function')\n",
    "        func(*args, **kwargs)\n",
    "        print('Something is happending after function')\n",
    "\n",
    "    return wrapper"
   ]
  },
  {
   "cell_type": "code",
   "execution_count": 4,
   "metadata": {},
   "outputs": [
    {
     "name": "stdout",
     "output_type": "stream",
     "text": [
      "Something is happening before function\n",
      "Hello, Ram!\n",
      "Something is happending after function\n"
     ]
    }
   ],
   "source": [
    "@my_decorator_2\n",
    "def say_hello_2(name):\n",
    "    print(f\"Hello, {name}!\")\n",
    "\n",
    "say_hello_2(\"Ram\")"
   ]
  },
  {
   "cell_type": "markdown",
   "metadata": {},
   "source": [
    "### **Decorator with Return Value**"
   ]
  },
  {
   "cell_type": "code",
   "execution_count": 5,
   "metadata": {},
   "outputs": [],
   "source": [
    "def my_decorator_3(func):\n",
    "    def wrapper(*args, **kwargs):\n",
    "        print('Pergorming adding operation ...')\n",
    "        result = func(*args, **kwargs)\n",
    "        print('Addition completed.')\n",
    "        return result\n",
    "    \n",
    "    return wrapper"
   ]
  },
  {
   "cell_type": "code",
   "execution_count": 6,
   "metadata": {},
   "outputs": [],
   "source": [
    "@my_decorator_3\n",
    "def add(a,b):\n",
    "    '''\n",
    "    This is a function for adding two numbers\n",
    "    '''\n",
    "    return a+b\n"
   ]
  },
  {
   "cell_type": "code",
   "execution_count": 7,
   "metadata": {},
   "outputs": [
    {
     "name": "stdout",
     "output_type": "stream",
     "text": [
      "Pergorming adding operation ...\n",
      "Addition completed.\n",
      "3\n"
     ]
    }
   ],
   "source": [
    "print(add(1,2))"
   ]
  },
  {
   "cell_type": "markdown",
   "metadata": {},
   "source": [
    "### **Preserving Metadata**"
   ]
  },
  {
   "cell_type": "code",
   "execution_count": 8,
   "metadata": {},
   "outputs": [
    {
     "name": "stdout",
     "output_type": "stream",
     "text": [
      "None\n",
      "wrapper\n"
     ]
    }
   ],
   "source": [
    "# add function metadata like: name, docstring is not preserved after decoration\n",
    "print(add.__doc__)\n",
    "print(add.__name__)"
   ]
  },
  {
   "cell_type": "code",
   "execution_count": 9,
   "metadata": {},
   "outputs": [],
   "source": [
    "from functools import wraps\n",
    "def my_decorator_4(func):\n",
    "    @wraps(func)\n",
    "    def wrapper(*args, **kwargs):\n",
    "        print('Pergorming adding operation ...')\n",
    "        result = func(*args, **kwargs)\n",
    "        print('Addition completed.')\n",
    "        return result\n",
    "    \n",
    "    return wrapper"
   ]
  },
  {
   "cell_type": "code",
   "execution_count": 10,
   "metadata": {},
   "outputs": [],
   "source": [
    "@my_decorator_4\n",
    "def add(a,b):\n",
    "    '''\n",
    "    This is a function for adding two numbers\n",
    "    '''\n",
    "    return a+b\n"
   ]
  },
  {
   "cell_type": "code",
   "execution_count": 11,
   "metadata": {},
   "outputs": [
    {
     "name": "stdout",
     "output_type": "stream",
     "text": [
      "Pergorming adding operation ...\n",
      "Addition completed.\n",
      "3\n"
     ]
    }
   ],
   "source": [
    "print(add(1,2))"
   ]
  },
  {
   "cell_type": "code",
   "execution_count": 12,
   "metadata": {},
   "outputs": [
    {
     "name": "stdout",
     "output_type": "stream",
     "text": [
      "\n",
      "    This is a function for adding two numbers\n",
      "    \n",
      "add\n"
     ]
    }
   ],
   "source": [
    "print(add.__doc__)\n",
    "print(add.__name__)"
   ]
  },
  {
   "cell_type": "markdown",
   "metadata": {},
   "source": [
    "### **Class Decorators**"
   ]
  },
  {
   "cell_type": "code",
   "execution_count": 13,
   "metadata": {},
   "outputs": [],
   "source": [
    "from functools import wraps\n",
    "def method_decorator(method):\n",
    "    @wraps(method)\n",
    "    def wrapper(self, *args, **kwargs):\n",
    "        print(f\"Calling method `{method.__name__}`\")\n",
    "        return method(self, *args, **kwargs)\n",
    "    \n",
    "    return wrapper"
   ]
  },
  {
   "cell_type": "code",
   "execution_count": 14,
   "metadata": {},
   "outputs": [
    {
     "name": "stdout",
     "output_type": "stream",
     "text": [
      "Calling method `method`\n",
      "Method called.\n"
     ]
    }
   ],
   "source": [
    "class MyClass:\n",
    "    @method_decorator\n",
    "    def method(self):\n",
    "        print('Method called.')\n",
    "\n",
    "obj = MyClass()\n",
    "obj.method()"
   ]
  },
  {
   "cell_type": "code",
   "execution_count": null,
   "metadata": {},
   "outputs": [],
   "source": []
  }
 ],
 "metadata": {
  "kernelspec": {
   "display_name": "Python 3",
   "language": "python",
   "name": "python3"
  },
  "language_info": {
   "codemirror_mode": {
    "name": "ipython",
    "version": 3
   },
   "file_extension": ".py",
   "mimetype": "text/x-python",
   "name": "python",
   "nbconvert_exporter": "python",
   "pygments_lexer": "ipython3",
   "version": "3.8.10"
  }
 },
 "nbformat": 4,
 "nbformat_minor": 2
}
